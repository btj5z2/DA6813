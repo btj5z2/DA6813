{
 "cells": [
  {
   "cell_type": "code",
   "execution_count": 1,
   "id": "298284c1-6aa4-4c81-86b6-4943b508b48c",
   "metadata": {},
   "outputs": [
    {
     "name": "stderr",
     "output_type": "stream",
     "text": [
      "/home/gpq253/.conda/envs/final_project/lib/python3.12/site-packages/tqdm/auto.py:21: TqdmWarning: IProgress not found. Please update jupyter and ipywidgets. See https://ipywidgets.readthedocs.io/en/stable/user_install.html\n",
      "  from .autonotebook import tqdm as notebook_tqdm\n",
      "INFO:datasets:PyTorch version 2.5.1 available.\n"
     ]
    }
   ],
   "source": [
    "import argparse, re, os\n",
    "from typing import List, Union, Iterable\n",
    "from itertools import zip_longest\n",
    "from compare_mt.rouge.rouge_scorer import RougeScorer\n",
    "from nltk import sent_tokenize, word_tokenize\n",
    "from transformers.pipelines.pt_utils import KeyDataset\n",
    "from sklearn.metrics import accuracy_score\n",
    "from datasets import load_dataset\n",
    "import numpy as np\n",
    "from tqdm import tqdm\n",
    "from evaluate import evaluator\n",
    "import torch\n",
    "import csv\n",
    "from transformers import (\n",
    "    AutoModelForCausalLM,\n",
    "    AutoTokenizer,\n",
    "    BitsAndBytesConfig,\n",
    "    TrainingArguments,\n",
    "    pipeline,\n",
    ")\n",
    "\n",
    "####################\n",
    "##### Model ID #####\n",
    "####################\n",
    "\n",
    "model_id = \"/home/gpq253/tuned-llama-3.1-8b-v2\""
   ]
  },
  {
   "cell_type": "code",
   "execution_count": 2,
   "id": "3cbd4db4-c86d-4fbf-8fce-1eb05c6adcae",
   "metadata": {},
   "outputs": [],
   "source": [
    "####################\n",
    "### Load Dataset ###\n",
    "####################\n",
    "\n",
    "eval_dataset = load_dataset(\"csv\", data_files=\"./Datasets/val.csv\", split=\"train\") #, streaming=True"
   ]
  },
  {
   "cell_type": "code",
   "execution_count": 3,
   "id": "c87358e3-d367-4b21-b0d4-a6a259705a63",
   "metadata": {},
   "outputs": [
    {
     "name": "stdout",
     "output_type": "stream",
     "text": [
      "{'text': \"(Sep 25, 2016  1:28 PM CDT) Authorities say seven people have been injured in an apparent fight in Boston's Theater District, the AP reports. The Boston Globe reports that Bernard O'Rourke, police superintendent of the bureau of field services, said officers responded to a report of a fight about 2:15am Sunday in the district, where bars and restaurants cater to nightlife crowds and had just closed. Police say people were stabbed with knives or bottles. Four of the victims were transported to receive medical treatment, while the other three walked into hospitals on their own, a police spokesman tells the Globe. Another police spokesman on Sunday afternoon told the AP the injuries appear to be non-life-threatening; earlier reports had said one person was critically injured. O'Rourke has said a suspect has been IDed—and per RT.com, that suspect was one of the wounded. Police are said to be seeking a second suspect. Emerson College, which has facilities in the area, alerted students to the incident in a Facebook post. The school has asked students to report any suspicious activity. (The accused attacker at a Minnesota mall was said to be  the most assimilated kid in the neighborhood. )\", 'summary': \"Melee in Boston's Theater District Leaves 7 Injured\", 'cloze': \"Melee in Boston's Theater District Leaves ____ Injured\", 'cloze_gt': '7', 'cloze_annotation': 'Trans( seven )', 'need_reasoning': 1}\n"
     ]
    }
   ],
   "source": [
    "###########################\n",
    "### Sample from Dataset ###\n",
    "###########################\n",
    "\n",
    "print(next(iter(eval_dataset))) "
   ]
  },
  {
   "cell_type": "code",
   "execution_count": 4,
   "id": "837c5418-f3d5-4261-90ae-dff117fc0b75",
   "metadata": {},
   "outputs": [
    {
     "name": "stdout",
     "output_type": "stream",
     "text": [
      "<class 'datasets.arrow_dataset.Dataset'>\n",
      "Dataset({\n",
      "    features: ['text', 'summary', 'cloze', 'cloze_gt', 'cloze_annotation', 'need_reasoning'],\n",
      "    num_rows: 2775\n",
      "})\n"
     ]
    }
   ],
   "source": [
    "#prompt = f\"Generate a single headlines for this news article and ensure it has at least one number in the headline: {eval_dataset[\"text\"]}\"\n",
    "#Eval_dataset in format of huggin face dataset (datasets.arrow_dataset.Dataset)\n",
    "print(type(eval_dataset))\n",
    "print(eval_dataset)"
   ]
  },
  {
   "cell_type": "code",
   "execution_count": 5,
   "id": "b588b8bf-9742-4342-859f-5660d8a663b4",
   "metadata": {},
   "outputs": [],
   "source": [
    "##################################################\n",
    "### Split Dataset to Components for Evaluation ###\n",
    "##################################################\n",
    "\n",
    "text = eval_dataset.remove_columns(['summary','cloze','cloze_gt','cloze_annotation','need_reasoning'])\n",
    "target = eval_dataset.remove_columns(['text','cloze','cloze_gt','cloze_annotation','need_reasoning'])\n",
    "num_gt = eval_dataset.remove_columns(['text','summary','cloze','cloze_annotation','need_reasoning'])\n",
    "num_type = eval_dataset.remove_columns(['text','summary','cloze','cloze_gt','cloze_annotation'])"
   ]
  },
  {
   "cell_type": "code",
   "execution_count": 6,
   "id": "54286ad9-fce0-4bfe-b93c-c9c2aa3854d2",
   "metadata": {},
   "outputs": [
    {
     "name": "stdout",
     "output_type": "stream",
     "text": [
      "{'text': \"(Sep 25, 2016  1:28 PM CDT) Authorities say seven people have been injured in an apparent fight in Boston's Theater District, the AP reports. The Boston Globe reports that Bernard O'Rourke, police superintendent of the bureau of field services, said officers responded to a report of a fight about 2:15am Sunday in the district, where bars and restaurants cater to nightlife crowds and had just closed. Police say people were stabbed with knives or bottles. Four of the victims were transported to receive medical treatment, while the other three walked into hospitals on their own, a police spokesman tells the Globe. Another police spokesman on Sunday afternoon told the AP the injuries appear to be non-life-threatening; earlier reports had said one person was critically injured. O'Rourke has said a suspect has been IDed—and per RT.com, that suspect was one of the wounded. Police are said to be seeking a second suspect. Emerson College, which has facilities in the area, alerted students to the incident in a Facebook post. The school has asked students to report any suspicious activity. (The accused attacker at a Minnesota mall was said to be  the most assimilated kid in the neighborhood. )\"}\n",
      "{'summary': \"Melee in Boston's Theater District Leaves 7 Injured\"}\n",
      "{'cloze_gt': '7'}\n",
      "{'need_reasoning': 1}\n"
     ]
    }
   ],
   "source": [
    "print(next(iter(text)))\n",
    "print(next(iter(target)))\n",
    "print(next(iter(num_gt)))\n",
    "print(next(iter(num_type)))"
   ]
  },
  {
   "cell_type": "code",
   "execution_count": 7,
   "id": "67af6697-d5fc-40f2-bfa0-506eab43b852",
   "metadata": {},
   "outputs": [
    {
     "name": "stderr",
     "output_type": "stream",
     "text": [
      "Creating CSV from Arrow format: 100%|█████████████| 3/3 [00:00<00:00, 91.26ba/s]\n",
      "Creating CSV from Arrow format: 100%|████████████| 3/3 [00:00<00:00, 768.00ba/s]\n",
      "Creating CSV from Arrow format: 100%|███████████| 3/3 [00:00<00:00, 1491.04ba/s]\n"
     ]
    },
    {
     "data": {
      "text/plain": [
       "5565"
      ]
     },
     "execution_count": 7,
     "metadata": {},
     "output_type": "execute_result"
    }
   ],
   "source": [
    "############################################\n",
    "### Output Individualized Outputs to CSV ###\n",
    "############################################\n",
    "\n",
    "target.to_csv('./Datasets/target.csv')\n",
    "num_gt.to_csv('./Datasets/num_gt.csv')\n",
    "num_type.to_csv('./Datasets/num_type.csv')"
   ]
  },
  {
   "cell_type": "code",
   "execution_count": 8,
   "id": "c54f8b98-bce5-4a25-ab16-492514903dfe",
   "metadata": {},
   "outputs": [
    {
     "name": "stdout",
     "output_type": "stream",
     "text": [
      "(Sep 25, 2016  1:28 PM CDT) Authorities say seven people have been injured in an apparent fight in Boston's Theater District, the AP reports. The Boston Globe reports that Bernard O'Rourke, police superintendent of the bureau of field services, said officers responded to a report of a fight about 2:15am Sunday in the district, where bars and restaurants cater to nightlife crowds and had just closed. Police say people were stabbed with knives or bottles. Four of the victims were transported to receive medical treatment, while the other three walked into hospitals on their own, a police spokesman tells the Globe. Another police spokesman on Sunday afternoon told the AP the injuries appear to be non-life-threatening; earlier reports had said one person was critically injured. O'Rourke has said a suspect has been IDed—and per RT.com, that suspect was one of the wounded. Police are said to be seeking a second suspect. Emerson College, which has facilities in the area, alerted students to the incident in a Facebook post. The school has asked students to report any suspicious activity. (The accused attacker at a Minnesota mall was said to be  the most assimilated kid in the neighborhood. )\n"
     ]
    }
   ],
   "source": [
    "for i in text['text']:\n",
    "    print(i)\n",
    "    break"
   ]
  },
  {
   "cell_type": "code",
   "execution_count": 9,
   "id": "cc028a28-3ec8-4c99-b113-a5873add29c0",
   "metadata": {},
   "outputs": [
    {
     "name": "stderr",
     "output_type": "stream",
     "text": [
      "Loading checkpoint shards: 100%|██████████████████| 4/4 [00:00<00:00,  6.17it/s]\n"
     ]
    }
   ],
   "source": [
    "device = \"cuda\" if torch.cuda.is_available() else \"cpu\"\n",
    "\n",
    "torch.cuda.empty_cache()\n",
    "\n",
    "pipe = pipeline(\n",
    "    \"text-generation\",\n",
    "    model=model_id,\n",
    "    model_kwargs={\"torch_dtype\": torch.bfloat16},\n",
    "    device=device,\n",
    ")"
   ]
  },
  {
   "cell_type": "code",
   "execution_count": 11,
   "id": "f47b1b99-17e0-4018-a3f7-cecc363b112b",
   "metadata": {},
   "outputs": [
    {
     "name": "stderr",
     "output_type": "stream",
     "text": [
      "You seem to be using the pipelines sequentially on GPU. In order to maximize efficiency please use a dataset\n"
     ]
    }
   ],
   "source": [
    "response = []\n",
    "\n",
    "#. The headline should include at least one number (in numeral format, so 2 instead of two)\n",
    "\n",
    "for article in text['text']:\n",
    "    torch.cuda.empty_cache()\n",
    "    \n",
    "    prompt = f\"Generate a single headline for the following news article: {article}\"\n",
    "\n",
    "    messages = [\n",
    "        {\"role\": \"system\", \"content\": \"You will be given a news article with the prefix 'news'. You will also be provided with an incomplete headline with the prefix 'masked_headline'. Based on the news content, please output the completed headline.\"},\n",
    "        {\"role\": \"user\", \"content\": prompt},\n",
    "    ]\n",
    "    \n",
    "    terminators = [\n",
    "        pipe.tokenizer.eos_token_id,\n",
    "        pipe.tokenizer.convert_tokens_to_ids(\"<|eot_id|>\")\n",
    "    ]\n",
    "\n",
    "    outputs = pipe(\n",
    "        messages,\n",
    "        max_new_tokens=256,\n",
    "        eos_token_id=terminators,\n",
    "        do_sample=True,\n",
    "        temperature=0.6,\n",
    "        top_p=0.9,\n",
    "        pad_token_id = pipe.tokenizer.eos_token_id\n",
    "    )\n",
    "\n",
    "    assistant_response = outputs[0][\"generated_text\"][-1][\"content\"]\n",
    "\n",
    "    response.append(assistant_response.strip('\"'))\n",
    "\n",
    "    #break"
   ]
  },
  {
   "cell_type": "code",
   "execution_count": 13,
   "id": "7772a882-d0f6-403b-bc1b-8284744e49bd",
   "metadata": {},
   "outputs": [
    {
     "name": "stdout",
     "output_type": "stream",
     "text": [
      "2775\n"
     ]
    }
   ],
   "source": [
    "print(len(response))"
   ]
  },
  {
   "cell_type": "code",
   "execution_count": 21,
   "id": "cabb9dd0-54da-464a-a2c6-33cda3b12162",
   "metadata": {},
   "outputs": [],
   "source": [
    "with open('./Datasets/predict.csv', 'w') as myfile:\n",
    "    writer = csv.writer(myfile)\n",
    "    writer.writerow(['predict'])\n",
    "    for i in response:\n",
    "        writer.writerow([i])"
   ]
  },
  {
   "cell_type": "code",
   "execution_count": null,
   "id": "62bb44cc-e0ed-4ca7-af19-9fbba0c597cd",
   "metadata": {},
   "outputs": [],
   "source": [
    "python numhg_eval.py \\\n",
    "--tgt_path='../Datasets/target.csv' \\\n",
    "--pre_path='../Datasets/predict.csv' \\\n",
    "--num_gt_path='../Datasets/num_gt.csv' \\\n",
    "--num_type_path='../Datasets/num_type.csv'"
   ]
  }
 ],
 "metadata": {
  "kernelspec": {
   "display_name": "Python 3 (ipykernel)",
   "language": "python",
   "name": "python3"
  },
  "language_info": {
   "codemirror_mode": {
    "name": "ipython",
    "version": 3
   },
   "file_extension": ".py",
   "mimetype": "text/x-python",
   "name": "python",
   "nbconvert_exporter": "python",
   "pygments_lexer": "ipython3",
   "version": "3.12.7"
  }
 },
 "nbformat": 4,
 "nbformat_minor": 5
}
